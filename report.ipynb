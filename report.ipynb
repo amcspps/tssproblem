{
 "cells": [
  {
   "cell_type": "markdown",
   "metadata": {},
   "source": [
    "# Результаты: \n",
    "\n",
    "Первый подграфик - значение ЦФ. \n",
    "\n",
    "Второй подграфик - время работы одной итерации.\n",
    "\n",
    "### Описание параметров:\n",
    "Подсчёт итерации включает в себя подсчёт количества хромосом-частиц-individual для алгоритмов genetic-pso-cmaes соответственно.\n",
    "\n",
    "В данном варианте кол-во хромосом-частиц-individual = 16, итераций = 200.\n",
    "\n",
    "Т.е. было посчитано в сумме 16*200=3200 значений функции цели для каждого из алгоритмов.\n",
    "\n",
    "\n",
    "\n",
    "\n",
    "### График 1: 16-частиц-200-итераций ~18 мин:\n",
    "![Alt text](plots/16-particles-200-iterations.png)\n",
    "\n",
    "\n",
    "### График 2: 32-частицы-100-итераций ~18 мин:\n",
    "p.s. тут я уже нормальные подписи к осям сделал \n",
    "\n",
    "![Alt text](plots/32-particles-100-iterations.png)\n",
    "\n",
    "### График 3: 8-частиц-400-итераций ~18 мин:\n",
    "\n",
    "![Alt text](plots/8-particles-400-iterations.png)\n",
    "\n",
    "### График 4: 8-частиц-100-итераций ~6 мин:\n",
    "\n",
    "![Alt text](plots/8-particles-400-iterations.png)\n",
    "\n",
    "### График 5: 1520-частиц-10-итераций ~45 мин:\n",
    "\n",
    "![Alt text](plots/1520-particles-10-iterations.png)\n",
    "\n",
    "### График 6: 16-частиц-2000 итераций ~180 мин:\n",
    "\n",
    "![Alt text](plots/16-particles-2000-iterations.png)"
   ]
  }
 ],
 "metadata": {
  "kernelspec": {
   "display_name": "venv",
   "language": "python",
   "name": "python3"
  },
  "language_info": {
   "codemirror_mode": {
    "name": "ipython",
    "version": 3
   },
   "file_extension": ".py",
   "mimetype": "text/x-python",
   "name": "python",
   "nbconvert_exporter": "python",
   "pygments_lexer": "ipython3",
   "version": "3.11.6"
  }
 },
 "nbformat": 4,
 "nbformat_minor": 2
}
